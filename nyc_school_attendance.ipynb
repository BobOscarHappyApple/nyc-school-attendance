{
 "cells": [
  {
   "cell_type": "markdown",
   "metadata": {},
   "source": [
    "# Summary : Take a look at NYC Open Data schools attendance by school & grade from the past five years. Let's compare this data against the weather and non-observed holidays during the past 5 years for level of correlation.\n",
    "\n",
    "### Should we use average daily tempature? Tempature 1 hour prior to school start?\n",
    "### How should we account for precipitation totals?\n",
    "### What non-observed holidays should be considered?\n",
    "### What does the data say at a city level?\n",
    "### What does the data say at a bourough level? \n",
    "### What does the data say at a district level?\n",
    "### What does the data say at a school level?\n",
    "\n",
    "Where should we get our weather data from?\n",
    "\n",
    "\n",
    "\n"
   ]
  }
 ],
 "metadata": {
  "kernelspec": {
   "display_name": "Python 3",
   "language": "python",
   "name": "python3"
  },
  "language_info": {
   "codemirror_mode": {
    "name": "ipython",
    "version": 3
   },
   "file_extension": ".py",
   "mimetype": "text/x-python",
   "name": "python",
   "nbconvert_exporter": "python",
   "pygments_lexer": "ipython3",
   "version": "3.7.0"
  }
 },
 "nbformat": 4,
 "nbformat_minor": 2
}
